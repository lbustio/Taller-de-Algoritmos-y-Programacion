{
  "cells": [
    {
      "cell_type": "markdown",
      "metadata": {
        "id": "si0pthnwO21Z"
      },
      "source": [
        "Este es un ejemplo de como escribir un pequeño script de python que haga cualquier cosa para demostrar su uso."
      ]
    },
    {
      "cell_type": "code",
      "execution_count": null,
      "metadata": {
        "colab": {
          "base_uri": "https://localhost:8080/"
        },
        "id": "Mq4xeUN-O96b",
        "outputId": "4b85b4b9-ea8a-4699-b77c-7e6b9bce9355"
      },
      "outputs": [
        {
          "name": "stdout",
          "output_type": "stream",
          "text": [
            "Dime tu nombre: Lazaro\n",
            "Hola Lazaro, qué tal estas?\n"
          ]
        }
      ],
      "source": [
        "nombre = input(\"Dime tu nombre: \") #input en Python es el equivalente a Escribir y Leer en pseint\n",
        "print(f\"Hola {nombre}, qué tal estas?\") # print es el equivalente en pseint de Escribir"
      ]
    },
    {
      "cell_type": "markdown",
      "metadata": {
        "id": "jtWmbjgiPhgZ"
      },
      "source": [
        "Se va a calcular la cantidad de dias que una persona ha vivido a partir de su fecha de nacimiento."
      ]
    },
    {
      "cell_type": "code",
      "execution_count": null,
      "metadata": {
        "colab": {
          "base_uri": "https://localhost:8080/"
        },
        "id": "B5AVBcEbPnar",
        "outputId": "b43c098c-6e62-4eaa-a754-7db18b6f6cb7"
      },
      "outputs": [
        {
          "name": "stdout",
          "output_type": "stream",
          "text": [
            "Lazaro dime tu fecha de nacimiento en el formato dd/mm/aaaa: 01/01/1900\n",
            "Lazaro has vivido por -999999999 days, 0:00:00 minutos\n"
          ]
        }
      ],
      "source": [
        "from datetime import datetime\n",
        "\n",
        "#date_str = '25/09/2023'\n",
        "date_format = '%d/%m/%Y'\n",
        "\n",
        "nac = input(f\"{nombre} dime tu fecha de nacimiento en el formato dd/mm/aaaa: \")\n",
        "date_obj = datetime.strptime(nac, date_format)\n",
        "days = (datetime.now() - date_obj).days\n",
        "\n",
        "print(f\"{nombre} has vivido por {days} días\")"
      ]
    },
    {
      "cell_type": "markdown",
      "metadata": {
        "id": "ZVOgBcMqSQDS"
      },
      "source": [
        "Script para sumar n numeros"
      ]
    },
    {
      "cell_type": "code",
      "execution_count": null,
      "metadata": {
        "colab": {
          "base_uri": "https://localhost:8080/"
        },
        "id": "z3CA-2kfSTsr",
        "outputId": "e660c4cd-42b5-4cf2-c502-8f5135b82a4c"
      },
      "outputs": [
        {
          "name": "stdout",
          "output_type": "stream",
          "text": [
            "Dime cuantos numeros vas a sumar: 5\n",
            "Dame el numero 0 a sumar: 1\n",
            "hasta ahora, la suma total es de 1\n",
            "Dame el numero 1 a sumar: 2\n",
            "hasta ahora, la suma total es de 3\n",
            "Dame el numero 2 a sumar: 3\n",
            "hasta ahora, la suma total es de 6\n",
            "Dame el numero 3 a sumar: 4\n",
            "hasta ahora, la suma total es de 10\n",
            "Dame el numero 4 a sumar: 5\n",
            "hasta ahora, la suma total es de 15\n",
            "La suma final es de 15\n"
          ]
        }
      ],
      "source": [
        "n = int(input(\"Dime cuantos numeros vas a sumar: \"))\n",
        "suma = 0\n",
        "\n",
        "for numero in range(n):\n",
        "  valor = int(input(f\"Dame el numero {numero} a sumar: \"))\n",
        "  suma = suma + valor\n",
        "  print(f\"hasta ahora, la suma total es de {suma}\")\n",
        "\n",
        "print(f\"La suma final es de {suma}\")"
      ]
    }
  ],
  "metadata": {
    "colab": {
      "provenance": []
    },
    "kernelspec": {
      "display_name": "Python 3",
      "name": "python3"
    },
    "language_info": {
      "name": "python"
    }
  },
  "nbformat": 4,
  "nbformat_minor": 0
}
