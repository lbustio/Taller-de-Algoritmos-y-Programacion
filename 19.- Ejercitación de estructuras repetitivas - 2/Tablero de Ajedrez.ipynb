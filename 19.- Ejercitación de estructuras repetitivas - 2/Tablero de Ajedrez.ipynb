{
 "cells": [
  {
   "attachments": {},
   "cell_type": "markdown",
   "metadata": {},
   "source": [
    "## Tablero de Ajedrez\n",
    "\n",
    "Dibuje un tablero de Ajedrez donde las casillas blancas sean \"1\" y las casillas negras sean \"0\"."
   ]
  },
  {
   "attachments": {},
   "cell_type": "markdown",
   "metadata": {},
   "source": [
    "## Solución"
   ]
  },
  {
   "cell_type": "code",
   "execution_count": null,
   "metadata": {},
   "outputs": [],
   "source": [
    "# Definir tamaño del tablero\n",
    "n = 8\n",
    "\n",
    "# Crear el  tablero\n",
    "board = [[0]*n for i in range(n)]\n",
    "\n",
    "# Asignar valores a las casillas\n",
    "for i in range(n):\n",
    "    for j in range(n):\n",
    "        board[i][j] = (i+j) % 2\n",
    "\n",
    "# Imprimir el tablero\n",
    "for row in board:\n",
    "    print(row)"
   ]
  }
 ],
 "metadata": {
  "kernelspec": {
   "display_name": "Python 3",
   "language": "python",
   "name": "python3"
  },
  "language_info": {
   "name": "python",
   "version": "3.11.1"
  },
  "orig_nbformat": 4
 },
 "nbformat": 4,
 "nbformat_minor": 2
}
