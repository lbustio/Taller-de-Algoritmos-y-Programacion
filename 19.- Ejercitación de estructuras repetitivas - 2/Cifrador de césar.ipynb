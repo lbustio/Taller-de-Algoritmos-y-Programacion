{
 "cells": [
  {
   "attachments": {},
   "cell_type": "markdown",
   "metadata": {},
   "source": [
    "## Ejercicio\n",
    "\n",
    "Realice un script que permita cifrar y descifrar un mensaje empleando el cifrador de César"
   ]
  },
  {
   "attachments": {},
   "cell_type": "markdown",
   "metadata": {},
   "source": [
    "## Solución"
   ]
  },
  {
   "attachments": {},
   "cell_type": "markdown",
   "metadata": {},
   "source": [
    "Primero se definen los valores constantes"
   ]
  },
  {
   "cell_type": "code",
   "execution_count": null,
   "metadata": {},
   "outputs": [],
   "source": [
    "ALPHABET = \"ABCDEFGHIJKLMNOPQRSTUVWXYZ \" # Notar que hay un espacio!"
   ]
  },
  {
   "cell_type": "code",
   "execution_count": null,
   "metadata": {},
   "outputs": [],
   "source": [
    "message = input(\"Introduzca el mensaje: \")\n",
    "key     = int(input(\"Introduzca la llave [1-26]: \"))"
   ]
  },
  {
   "attachments": {},
   "cell_type": "markdown",
   "metadata": {},
   "source": [
    "### Cifrar un mensaje\n",
    "\n",
    "En esta sección se mostrará la solución para cifrar el mensaje"
   ]
  },
  {
   "cell_type": "code",
   "execution_count": null,
   "metadata": {},
   "outputs": [],
   "source": [
    "cipher = \"\" # En esta variable se almacenará el mensaje cifrado\n",
    "for symbol in message:\n",
    "    pos = ALPHABET.find(symbol.upper())\n",
    "    new_pos = (pos + key) % len(ALPHABET) \n",
    "    # print(\"{} = {} + {} % {}\".format(new_pos, pos, key,  len(ALPHABET)))\n",
    "    cipher += ALPHABET[new_pos]\n",
    "\n",
    "print(\"El mensaje '{}' se cifra como '{}'\".format(message, cipher))\n"
   ]
  },
  {
   "attachments": {},
   "cell_type": "markdown",
   "metadata": {},
   "source": [
    "### Descifrar un mensaje\n",
    "A partir de un mensaje cifrado, en esa sección se mostrará el código para descifrarlo"
   ]
  },
  {
   "cell_type": "code",
   "execution_count": null,
   "metadata": {},
   "outputs": [],
   "source": [
    "plain = \"\"\n",
    "for symbol in message:\n",
    "    pos = ALPHABET.find(symbol.upper())\n",
    "    new_pos = (pos - key) % len(ALPHABET)\n",
    "    #print(\"{} = {} - {} % {}\".format(new_pos, pos, key, len(ALPHABET)))\n",
    "    plain += ALPHABET[new_pos]\n",
    "\n",
    "print(\"El mensaje '{}' se descifra como '{}'\".format(message, plain))"
   ]
  }
 ],
 "metadata": {
  "kernelspec": {
   "display_name": "Python 3",
   "language": "python",
   "name": "python3"
  },
  "language_info": {
   "name": "python",
   "version": "3.11.1"
  },
  "orig_nbformat": 4
 },
 "nbformat": 4,
 "nbformat_minor": 2
}
