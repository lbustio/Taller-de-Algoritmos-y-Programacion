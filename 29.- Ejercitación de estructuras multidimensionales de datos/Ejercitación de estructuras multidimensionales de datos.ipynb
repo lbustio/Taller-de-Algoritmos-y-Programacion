{
 "cells": [
  {
   "attachments": {},
   "cell_type": "markdown",
   "metadata": {},
   "source": [
    "# Actividad 29: Ejercitación de estructuras multidimensionales de datos"
   ]
  },
  {
   "attachments": {},
   "cell_type": "markdown",
   "metadata": {},
   "source": [
    "## 1.- Crea un DataFrame a partir del archivo CSV \"ventas.csv\""
   ]
  },
  {
   "cell_type": "code",
   "execution_count": null,
   "metadata": {
    "vscode": {
     "languageId": "plaintext"
    }
   },
   "outputs": [],
   "source": [
    "import pandas as pd\n",
    "\n",
    "# Cargar el archivo CSV en un DataFrame\n",
    "df = pd.read_csv(\"ventas.csv\")\n",
    "\n",
    "# Muestra las primeras 5 filas del DataFrame\n",
    "print(df.head())"
   ]
  },
  {
   "attachments": {},
   "cell_type": "markdown",
   "metadata": {},
   "source": [
    "## 2.- Muestra las primeras 5 filas del DataFrame"
   ]
  },
  {
   "cell_type": "code",
   "execution_count": null,
   "metadata": {
    "vscode": {
     "languageId": "plaintext"
    }
   },
   "outputs": [],
   "source": [
    "# Muestra las primeras 5 filas del DataFrame\n",
    "print(df.head())"
   ]
  },
  {
   "attachments": {},
   "cell_type": "markdown",
   "metadata": {},
   "source": [
    "## 3.- Calcula el promedio de ventas para cada mes"
   ]
  },
  {
   "cell_type": "code",
   "execution_count": null,
   "metadata": {
    "vscode": {
     "languageId": "plaintext"
    }
   },
   "outputs": [],
   "source": [
    "# Calcula el promedio de ventas para cada mes\n",
    "promedio_ventas = df.mean()\n",
    "print(promedio_ventas)"
   ]
  },
  {
   "attachments": {},
   "cell_type": "markdown",
   "metadata": {},
   "source": [
    "## 4.- Encuentra el producto con la venta máxima en el mes de enero"
   ]
  },
  {
   "cell_type": "code",
   "execution_count": null,
   "metadata": {
    "vscode": {
     "languageId": "plaintext"
    }
   },
   "outputs": [],
   "source": [
    "# Encuentra el producto con la venta máxima en enero\n",
    "producto_max_enero = df.loc[df['Enero'].idxmax(), 'Producto']\n",
    "print(\"Producto con la venta máxima en enero:\", producto_max_enero)"
   ]
  },
  {
   "attachments": {},
   "cell_type": "markdown",
   "metadata": {},
   "source": [
    "## 5.- Ordena el DataFrame por la columna \"Marzo\" en orden descendente"
   ]
  },
  {
   "cell_type": "code",
   "execution_count": null,
   "metadata": {
    "vscode": {
     "languageId": "plaintext"
    }
   },
   "outputs": [],
   "source": [
    "# Ordena el DataFrame por la columna \"Marzo\" en orden descendente\n",
    "df_ordenado = df.sort_values(by='Marzo', ascending=False)\n",
    "print(df_ordenado)"
   ]
  },
  {
   "attachments": {},
   "cell_type": "markdown",
   "metadata": {},
   "source": [
    "## 6.- Guarda el DataFrame ordenado en un nuevo archivo CSV llamado \"ventas_ordenadas.csv\""
   ]
  },
  {
   "cell_type": "code",
   "execution_count": null,
   "metadata": {
    "vscode": {
     "languageId": "plaintext"
    }
   },
   "outputs": [],
   "source": [
    "# Guarda el DataFrame ordenado en un nuevo archivo CSV\n",
    "df_ordenado.to_csv(\"ventas_ordenadas.csv\", index=False)\n",
    "print(\"DataFrame ordenado guardado en ventas_ordenadas.csv\")"
   ]
  },
  {
   "attachments": {},
   "cell_type": "markdown",
   "metadata": {},
   "source": [
    "## 7.- Filtra el DataFrame para mostrar solo los productos con ventas superiores a 50 en el mes de febrero"
   ]
  },
  {
   "cell_type": "code",
   "execution_count": null,
   "metadata": {
    "vscode": {
     "languageId": "plaintext"
    }
   },
   "outputs": [],
   "source": [
    "# Filtra el DataFrame para mostrar solo los productos con ventas superiores a 50 en febrero\n",
    "productos_ventas_superiores_50 = df[df['Febrero'] > 50]\n",
    "print(productos_ventas_superiores_50)"
   ]
  },
  {
   "attachments": {},
   "cell_type": "markdown",
   "metadata": {},
   "source": [
    "## 8.- Agrega una nueva columna al DataFrame llamada \"Venta Total\" que contenga la suma de las ventas de todos los meses para cada producto"
   ]
  },
  {
   "cell_type": "code",
   "execution_count": null,
   "metadata": {
    "vscode": {
     "languageId": "plaintext"
    }
   },
   "outputs": [],
   "source": [
    "# Agrega una nueva columna \"Venta Total\" con la suma de las ventas de todos los meses para cada producto\n",
    "df['Venta Total'] = df[['Enero', 'Febrero', 'Marzo']].sum(axis=1)\n",
    "print(df)"
   ]
  },
  {
   "attachments": {},
   "cell_type": "markdown",
   "metadata": {},
   "source": [
    "## 9.- Calcula la venta total de todos los productos en el primer trimestre (enero, febrero, marzo)"
   ]
  },
  {
   "cell_type": "code",
   "execution_count": null,
   "metadata": {
    "vscode": {
     "languageId": "plaintext"
    }
   },
   "outputs": [],
   "source": [
    "# Calcula la venta total de todos los productos en el primer trimestre\n",
    "venta_total_trimestre = df[['Enero', 'Febrero', 'Marzo']].sum().sum()\n",
    "print(\"Venta total del primer trimestre:\", venta_total_trimestre)"
   ]
  },
  {
   "attachments": {},
   "cell_type": "markdown",
   "metadata": {},
   "source": [
    "## 10.- Agrupa el DataFrame por mes y calcula la suma de ventas para cada mes"
   ]
  },
  {
   "cell_type": "code",
   "execution_count": null,
   "metadata": {
    "vscode": {
     "languageId": "plaintext"
    }
   },
   "outputs": [],
   "source": [
    "# Agrupa el DataFrame por mes y calcula la suma de ventas para cada mes\n",
    "ventas_por_mes = df.groupby('Mes').sum()\n",
    "print(ventas_por_mes)"
   ]
  }
 ],
 "metadata": {
  "language_info": {
   "name": "python"
  },
  "orig_nbformat": 4
 },
 "nbformat": 4,
 "nbformat_minor": 2
}
